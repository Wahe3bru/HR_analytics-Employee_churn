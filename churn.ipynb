{
 "cells": [
  {
   "cell_type": "markdown",
   "metadata": {},
   "source": [
    "# Using ML to predict employee churn"
   ]
  },
  {
   "cell_type": "code",
   "execution_count": 1,
   "metadata": {},
   "outputs": [],
   "source": [
    "import pandas as pd\n",
    "import matplotlib.pyplot as plt\n",
    "import seaborn as sns\n",
    "from sklearn.model_selection import train_test_split, GridSearchCV, cross_val_score\n",
    "from sklearn.tree import DecisionTreeClassifier\n",
    "from sklearn.metrics import accuracy_score, recall_score, roc_auc_score, confusion_matrix\n",
    "%matplotlib inline"
   ]
  },
  {
   "cell_type": "code",
   "execution_count": 2,
   "metadata": {},
   "outputs": [],
   "source": [
    "turnover = pd.read_csv(\"turnover.csv\")"
   ]
  },
  {
   "cell_type": "code",
   "execution_count": 3,
   "metadata": {},
   "outputs": [
    {
     "data": {
      "text/html": [
       "<div>\n",
       "<style scoped>\n",
       "    .dataframe tbody tr th:only-of-type {\n",
       "        vertical-align: middle;\n",
       "    }\n",
       "\n",
       "    .dataframe tbody tr th {\n",
       "        vertical-align: top;\n",
       "    }\n",
       "\n",
       "    .dataframe thead th {\n",
       "        text-align: right;\n",
       "    }\n",
       "</style>\n",
       "<table border=\"1\" class=\"dataframe\">\n",
       "  <thead>\n",
       "    <tr style=\"text-align: right;\">\n",
       "      <th></th>\n",
       "      <th>satisfaction</th>\n",
       "      <th>evaluation</th>\n",
       "      <th>number_of_projects</th>\n",
       "      <th>average_montly_hours</th>\n",
       "      <th>time_spend_company</th>\n",
       "      <th>work_accident</th>\n",
       "      <th>churn</th>\n",
       "      <th>promotion</th>\n",
       "      <th>department</th>\n",
       "      <th>salary</th>\n",
       "    </tr>\n",
       "  </thead>\n",
       "  <tbody>\n",
       "    <tr>\n",
       "      <th>0</th>\n",
       "      <td>0.38</td>\n",
       "      <td>0.53</td>\n",
       "      <td>2</td>\n",
       "      <td>157</td>\n",
       "      <td>3</td>\n",
       "      <td>0</td>\n",
       "      <td>1</td>\n",
       "      <td>0</td>\n",
       "      <td>sales</td>\n",
       "      <td>low</td>\n",
       "    </tr>\n",
       "    <tr>\n",
       "      <th>1</th>\n",
       "      <td>0.80</td>\n",
       "      <td>0.86</td>\n",
       "      <td>5</td>\n",
       "      <td>262</td>\n",
       "      <td>6</td>\n",
       "      <td>0</td>\n",
       "      <td>1</td>\n",
       "      <td>0</td>\n",
       "      <td>sales</td>\n",
       "      <td>medium</td>\n",
       "    </tr>\n",
       "    <tr>\n",
       "      <th>2</th>\n",
       "      <td>0.11</td>\n",
       "      <td>0.88</td>\n",
       "      <td>7</td>\n",
       "      <td>272</td>\n",
       "      <td>4</td>\n",
       "      <td>0</td>\n",
       "      <td>1</td>\n",
       "      <td>0</td>\n",
       "      <td>sales</td>\n",
       "      <td>medium</td>\n",
       "    </tr>\n",
       "    <tr>\n",
       "      <th>3</th>\n",
       "      <td>0.72</td>\n",
       "      <td>0.87</td>\n",
       "      <td>5</td>\n",
       "      <td>223</td>\n",
       "      <td>5</td>\n",
       "      <td>0</td>\n",
       "      <td>1</td>\n",
       "      <td>0</td>\n",
       "      <td>sales</td>\n",
       "      <td>low</td>\n",
       "    </tr>\n",
       "    <tr>\n",
       "      <th>4</th>\n",
       "      <td>0.37</td>\n",
       "      <td>0.52</td>\n",
       "      <td>2</td>\n",
       "      <td>159</td>\n",
       "      <td>3</td>\n",
       "      <td>0</td>\n",
       "      <td>1</td>\n",
       "      <td>0</td>\n",
       "      <td>sales</td>\n",
       "      <td>low</td>\n",
       "    </tr>\n",
       "  </tbody>\n",
       "</table>\n",
       "</div>"
      ],
      "text/plain": [
       "   satisfaction  evaluation  number_of_projects  average_montly_hours  \\\n",
       "0          0.38        0.53                   2                   157   \n",
       "1          0.80        0.86                   5                   262   \n",
       "2          0.11        0.88                   7                   272   \n",
       "3          0.72        0.87                   5                   223   \n",
       "4          0.37        0.52                   2                   159   \n",
       "\n",
       "   time_spend_company  work_accident  churn  promotion department  salary  \n",
       "0                   3              0      1          0      sales     low  \n",
       "1                   6              0      1          0      sales  medium  \n",
       "2                   4              0      1          0      sales  medium  \n",
       "3                   5              0      1          0      sales     low  \n",
       "4                   3              0      1          0      sales     low  "
      ]
     },
     "execution_count": 3,
     "metadata": {},
     "output_type": "execute_result"
    }
   ],
   "source": [
    "turnover.head()"
   ]
  },
  {
   "cell_type": "markdown",
   "metadata": {},
   "source": [
    "A quick look at the data just to check if there are obvious inaccuracies in the dataset.<br>\n",
    "`churn` would be our target variable<br>\n",
    "`deparment` and `salary` are categorical variables that we would need to transform"
   ]
  },
  {
   "cell_type": "markdown",
   "metadata": {},
   "source": [
    "### Exploratory Data Analysis"
   ]
  },
  {
   "cell_type": "code",
   "execution_count": 4,
   "metadata": {},
   "outputs": [
    {
     "name": "stdout",
     "output_type": "stream",
     "text": [
      "<class 'pandas.core.frame.DataFrame'>\n",
      "RangeIndex: 14999 entries, 0 to 14998\n",
      "Data columns (total 10 columns):\n",
      "satisfaction            14999 non-null float64\n",
      "evaluation              14999 non-null float64\n",
      "number_of_projects      14999 non-null int64\n",
      "average_montly_hours    14999 non-null int64\n",
      "time_spend_company      14999 non-null int64\n",
      "work_accident           14999 non-null int64\n",
      "churn                   14999 non-null int64\n",
      "promotion               14999 non-null int64\n",
      "department              14999 non-null object\n",
      "salary                  14999 non-null object\n",
      "dtypes: float64(2), int64(6), object(2)\n",
      "memory usage: 1.1+ MB\n"
     ]
    }
   ],
   "source": [
    "turnover.info()"
   ]
  },
  {
   "cell_type": "markdown",
   "metadata": {},
   "source": [
    "There are no missing data :) (very rare) <br>\n",
    "The dataset consists of 14999 rows<br>\n",
    "There are 9 features (the tenth column being our target variable)<br>\n",
    "and 2 columns of object (string) type"
   ]
  },
  {
   "cell_type": "code",
   "execution_count": 5,
   "metadata": {},
   "outputs": [
    {
     "data": {
      "text/html": [
       "<div>\n",
       "<style scoped>\n",
       "    .dataframe tbody tr th:only-of-type {\n",
       "        vertical-align: middle;\n",
       "    }\n",
       "\n",
       "    .dataframe tbody tr th {\n",
       "        vertical-align: top;\n",
       "    }\n",
       "\n",
       "    .dataframe thead th {\n",
       "        text-align: right;\n",
       "    }\n",
       "</style>\n",
       "<table border=\"1\" class=\"dataframe\">\n",
       "  <thead>\n",
       "    <tr style=\"text-align: right;\">\n",
       "      <th></th>\n",
       "      <th>satisfaction</th>\n",
       "      <th>evaluation</th>\n",
       "      <th>number_of_projects</th>\n",
       "      <th>average_montly_hours</th>\n",
       "      <th>time_spend_company</th>\n",
       "      <th>work_accident</th>\n",
       "      <th>churn</th>\n",
       "      <th>promotion</th>\n",
       "    </tr>\n",
       "  </thead>\n",
       "  <tbody>\n",
       "    <tr>\n",
       "      <th>count</th>\n",
       "      <td>14999.000000</td>\n",
       "      <td>14999.000000</td>\n",
       "      <td>14999.000000</td>\n",
       "      <td>14999.000000</td>\n",
       "      <td>14999.000000</td>\n",
       "      <td>14999.000000</td>\n",
       "      <td>14999.000000</td>\n",
       "      <td>14999.000000</td>\n",
       "    </tr>\n",
       "    <tr>\n",
       "      <th>mean</th>\n",
       "      <td>0.612834</td>\n",
       "      <td>0.716102</td>\n",
       "      <td>3.803054</td>\n",
       "      <td>201.050337</td>\n",
       "      <td>3.498233</td>\n",
       "      <td>0.144610</td>\n",
       "      <td>0.238083</td>\n",
       "      <td>0.021268</td>\n",
       "    </tr>\n",
       "    <tr>\n",
       "      <th>std</th>\n",
       "      <td>0.248631</td>\n",
       "      <td>0.171169</td>\n",
       "      <td>1.232592</td>\n",
       "      <td>49.943099</td>\n",
       "      <td>1.460136</td>\n",
       "      <td>0.351719</td>\n",
       "      <td>0.425924</td>\n",
       "      <td>0.144281</td>\n",
       "    </tr>\n",
       "    <tr>\n",
       "      <th>min</th>\n",
       "      <td>0.090000</td>\n",
       "      <td>0.360000</td>\n",
       "      <td>2.000000</td>\n",
       "      <td>96.000000</td>\n",
       "      <td>2.000000</td>\n",
       "      <td>0.000000</td>\n",
       "      <td>0.000000</td>\n",
       "      <td>0.000000</td>\n",
       "    </tr>\n",
       "    <tr>\n",
       "      <th>25%</th>\n",
       "      <td>0.440000</td>\n",
       "      <td>0.560000</td>\n",
       "      <td>3.000000</td>\n",
       "      <td>156.000000</td>\n",
       "      <td>3.000000</td>\n",
       "      <td>0.000000</td>\n",
       "      <td>0.000000</td>\n",
       "      <td>0.000000</td>\n",
       "    </tr>\n",
       "    <tr>\n",
       "      <th>50%</th>\n",
       "      <td>0.640000</td>\n",
       "      <td>0.720000</td>\n",
       "      <td>4.000000</td>\n",
       "      <td>200.000000</td>\n",
       "      <td>3.000000</td>\n",
       "      <td>0.000000</td>\n",
       "      <td>0.000000</td>\n",
       "      <td>0.000000</td>\n",
       "    </tr>\n",
       "    <tr>\n",
       "      <th>75%</th>\n",
       "      <td>0.820000</td>\n",
       "      <td>0.870000</td>\n",
       "      <td>5.000000</td>\n",
       "      <td>245.000000</td>\n",
       "      <td>4.000000</td>\n",
       "      <td>0.000000</td>\n",
       "      <td>0.000000</td>\n",
       "      <td>0.000000</td>\n",
       "    </tr>\n",
       "    <tr>\n",
       "      <th>max</th>\n",
       "      <td>1.000000</td>\n",
       "      <td>1.000000</td>\n",
       "      <td>7.000000</td>\n",
       "      <td>310.000000</td>\n",
       "      <td>10.000000</td>\n",
       "      <td>1.000000</td>\n",
       "      <td>1.000000</td>\n",
       "      <td>1.000000</td>\n",
       "    </tr>\n",
       "  </tbody>\n",
       "</table>\n",
       "</div>"
      ],
      "text/plain": [
       "       satisfaction    evaluation  number_of_projects  average_montly_hours  \\\n",
       "count  14999.000000  14999.000000        14999.000000          14999.000000   \n",
       "mean       0.612834      0.716102            3.803054            201.050337   \n",
       "std        0.248631      0.171169            1.232592             49.943099   \n",
       "min        0.090000      0.360000            2.000000             96.000000   \n",
       "25%        0.440000      0.560000            3.000000            156.000000   \n",
       "50%        0.640000      0.720000            4.000000            200.000000   \n",
       "75%        0.820000      0.870000            5.000000            245.000000   \n",
       "max        1.000000      1.000000            7.000000            310.000000   \n",
       "\n",
       "       time_spend_company  work_accident         churn     promotion  \n",
       "count        14999.000000   14999.000000  14999.000000  14999.000000  \n",
       "mean             3.498233       0.144610      0.238083      0.021268  \n",
       "std              1.460136       0.351719      0.425924      0.144281  \n",
       "min              2.000000       0.000000      0.000000      0.000000  \n",
       "25%              3.000000       0.000000      0.000000      0.000000  \n",
       "50%              3.000000       0.000000      0.000000      0.000000  \n",
       "75%              4.000000       0.000000      0.000000      0.000000  \n",
       "max             10.000000       1.000000      1.000000      1.000000  "
      ]
     },
     "execution_count": 5,
     "metadata": {},
     "output_type": "execute_result"
    }
   ],
   "source": [
    "turnover.describe()"
   ]
  },
  {
   "cell_type": "markdown",
   "metadata": {},
   "source": [
    "The `.describe()` method gives a nice statistical description of the numeric type columns. <br>\n",
    "`churn` and `work_accident` looks a bit strange, we know `churn` is the target variable with either `1` if the left and `0` if they stayed.<br>\n",
    "Let's check the values in work_accident`"
   ]
  },
  {
   "cell_type": "code",
   "execution_count": 6,
   "metadata": {},
   "outputs": [
    {
     "data": {
      "text/plain": [
       "0    12830\n",
       "1     2169\n",
       "Name: work_accident, dtype: int64"
      ]
     },
     "execution_count": 6,
     "metadata": {},
     "output_type": "execute_result"
    }
   ],
   "source": [
    "turnover.work_accident.value_counts()"
   ]
  },
  {
   "cell_type": "markdown",
   "metadata": {},
   "source": [
    "Checking the `work_accident` column it looks like it's a Boolean with `1` if they were involved in a work accident and `0` if they were not."
   ]
  },
  {
   "cell_type": "code",
   "execution_count": 7,
   "metadata": {},
   "outputs": [
    {
     "data": {
      "image/png": "[encoded data removed]",
      "text/plain": [
       "<Figure size 576x432 with 1 Axes>"
      ]
     },
     "metadata": {},
     "output_type": "display_data"
    }
   ],
   "source": [
    "turnover.department.value_counts().sort_values().plot(kind='bar', title='Number of employees per Department', figsize=(8,6));\n",
    "plt.show()"
   ]
  },
  {
   "cell_type": "code",
   "execution_count": 8,
   "metadata": {},
   "outputs": [
    {
     "data": {
      "image/png": "[encoded data removed]",
      "text/plain": [
       "<Figure size 576x432 with 1 Axes>"
      ]
     },
     "metadata": {},
     "output_type": "display_data"
    }
   ],
   "source": [
    "turnover.groupby('department')['churn'].sum().sort_values().plot(kind='bar', title='Number of employees that left per Department', figsize=(8,6)); \n",
    "plt.show()"
   ]
  },
  {
   "cell_type": "markdown",
   "metadata": {},
   "source": [
    "It makes sense that the top four biggest departments would have the highest churn rate.<br>\n",
    "The HR department however has one of the lowest number of employees but is in the top 5 of employee churn rate."
   ]
  },
  {
   "cell_type": "code",
   "execution_count": 9,
   "metadata": {},
   "outputs": [
    {
     "data": {
      "image/png": "[encoded data removed]",
      "text/plain": [
       "<Figure size 576x432 with 1 Axes>"
      ]
     },
     "metadata": {},
     "output_type": "display_data"
    }
   ],
   "source": [
    "churn_department = turnover.groupby('department')['churn'].sum()\n",
    "churn_dept_percentage = churn_department/len(turnover)\n",
    "churn_dept_percentage.sort_values().plot.bar(title='Percentage of Employees that left per department', figsize=(8,6))\n",
    "plt.show()"
   ]
  },
  {
   "cell_type": "code",
   "execution_count": 10,
   "metadata": {},
   "outputs": [
    {
     "data": {
      "text/plain": [
       "department\n",
       "sales          0.067605\n",
       "technical      0.046470\n",
       "support        0.037002\n",
       "IT             0.018201\n",
       "hr             0.014334\n",
       "accounting     0.013601\n",
       "marketing      0.013534\n",
       "product_mng    0.013201\n",
       "RandD          0.008067\n",
       "management     0.006067\n",
       "Name: churn, dtype: float64"
      ]
     },
     "execution_count": 10,
     "metadata": {},
     "output_type": "execute_result"
    }
   ],
   "source": [
    "churn_dept_percentage.sort_values(ascending=False)#.plot.box()"
   ]
  },
  {
   "cell_type": "markdown",
   "metadata": {},
   "source": [
    "Looking at the per department percentage of emplyees that left relative to it's size we see that even though the HR department has a higher churn rate than expected, there is no need to panic. I would inform management to look into the matter further."
   ]
  },
  {
   "cell_type": "code",
   "execution_count": 11,
   "metadata": {},
   "outputs": [
    {
     "data": {
      "image/png": "[encoded data removed]",
      "text/plain": [
       "<Figure size 792x432 with 1 Axes>"
      ]
     },
     "metadata": {},
     "output_type": "display_data"
    }
   ],
   "source": [
    "fig, ax = plt.subplots(figsize=(11,6))\n",
    "sns.boxplot(x='department', y='satisfaction', data=turnover).set_title(\"Satisfaction by Department\")\n",
    "#plt.figure(figsize=(15,8))\n",
    "plt.show()"
   ]
  },
  {
   "cell_type": "markdown",
   "metadata": {},
   "source": [
    "Satisfaction levels are more less similar. One does notice the smaller range of management.<br>\n",
    "This explains why this department has the least churn rate.<br>\n",
    "Accounting has one of the lowest mean satisfaction levels, as well as a very broad range, yet it is one of the departments with the lowest churn rate"
   ]
  },
  {
   "cell_type": "code",
   "execution_count": 12,
   "metadata": {},
   "outputs": [
    {
     "data": {
      "image/png": "[encoded data removed]",
      "text/plain": [
       "<Figure size 792x432 with 1 Axes>"
      ]
     },
     "metadata": {},
     "output_type": "display_data"
    }
   ],
   "source": [
    "fig, ax = plt.subplots(figsize=(11,6))\n",
    "sns.boxplot(x='department', y='time_spend_company', data=turnover).set_title(\"Time Spent at Company per Department\")\n",
    "plt.show()"
   ]
  },
  {
   "cell_type": "code",
   "execution_count": 13,
   "metadata": {},
   "outputs": [
    {
     "data": {
      "text/html": [
       "<div>\n",
       "<style scoped>\n",
       "    .dataframe tbody tr th:only-of-type {\n",
       "        vertical-align: middle;\n",
       "    }\n",
       "\n",
       "    .dataframe tbody tr th {\n",
       "        vertical-align: top;\n",
       "    }\n",
       "\n",
       "    .dataframe thead tr th {\n",
       "        text-align: left;\n",
       "    }\n",
       "\n",
       "    .dataframe thead tr:last-of-type th {\n",
       "        text-align: right;\n",
       "    }\n",
       "</style>\n",
       "<table border=\"1\" class=\"dataframe\">\n",
       "  <thead>\n",
       "    <tr>\n",
       "      <th></th>\n",
       "      <th colspan=\"8\" halign=\"left\">average_montly_hours</th>\n",
       "      <th colspan=\"2\" halign=\"left\">churn</th>\n",
       "      <th>...</th>\n",
       "      <th colspan=\"2\" halign=\"left\">time_spend_company</th>\n",
       "      <th colspan=\"8\" halign=\"left\">work_accident</th>\n",
       "    </tr>\n",
       "    <tr>\n",
       "      <th></th>\n",
       "      <th>count</th>\n",
       "      <th>mean</th>\n",
       "      <th>std</th>\n",
       "      <th>min</th>\n",
       "      <th>25%</th>\n",
       "      <th>50%</th>\n",
       "      <th>75%</th>\n",
       "      <th>max</th>\n",
       "      <th>count</th>\n",
       "      <th>mean</th>\n",
       "      <th>...</th>\n",
       "      <th>75%</th>\n",
       "      <th>max</th>\n",
       "      <th>count</th>\n",
       "      <th>mean</th>\n",
       "      <th>std</th>\n",
       "      <th>min</th>\n",
       "      <th>25%</th>\n",
       "      <th>50%</th>\n",
       "      <th>75%</th>\n",
       "      <th>max</th>\n",
       "    </tr>\n",
       "    <tr>\n",
       "      <th>department</th>\n",
       "      <th></th>\n",
       "      <th></th>\n",
       "      <th></th>\n",
       "      <th></th>\n",
       "      <th></th>\n",
       "      <th></th>\n",
       "      <th></th>\n",
       "      <th></th>\n",
       "      <th></th>\n",
       "      <th></th>\n",
       "      <th></th>\n",
       "      <th></th>\n",
       "      <th></th>\n",
       "      <th></th>\n",
       "      <th></th>\n",
       "      <th></th>\n",
       "      <th></th>\n",
       "      <th></th>\n",
       "      <th></th>\n",
       "      <th></th>\n",
       "      <th></th>\n",
       "    </tr>\n",
       "  </thead>\n",
       "  <tbody>\n",
       "    <tr>\n",
       "      <th>IT</th>\n",
       "      <td>1227.0</td>\n",
       "      <td>202.215974</td>\n",
       "      <td>50.688311</td>\n",
       "      <td>96.0</td>\n",
       "      <td>160.00</td>\n",
       "      <td>199.0</td>\n",
       "      <td>245.00</td>\n",
       "      <td>308.0</td>\n",
       "      <td>1227.0</td>\n",
       "      <td>0.222494</td>\n",
       "      <td>...</td>\n",
       "      <td>4.0</td>\n",
       "      <td>10.0</td>\n",
       "      <td>1227.0</td>\n",
       "      <td>0.133659</td>\n",
       "      <td>0.340425</td>\n",
       "      <td>0.0</td>\n",
       "      <td>0.0</td>\n",
       "      <td>0.0</td>\n",
       "      <td>0.0</td>\n",
       "      <td>1.0</td>\n",
       "    </tr>\n",
       "    <tr>\n",
       "      <th>RandD</th>\n",
       "      <td>787.0</td>\n",
       "      <td>200.800508</td>\n",
       "      <td>49.253223</td>\n",
       "      <td>98.0</td>\n",
       "      <td>157.00</td>\n",
       "      <td>200.0</td>\n",
       "      <td>248.00</td>\n",
       "      <td>308.0</td>\n",
       "      <td>787.0</td>\n",
       "      <td>0.153748</td>\n",
       "      <td>...</td>\n",
       "      <td>4.0</td>\n",
       "      <td>8.0</td>\n",
       "      <td>787.0</td>\n",
       "      <td>0.170267</td>\n",
       "      <td>0.376106</td>\n",
       "      <td>0.0</td>\n",
       "      <td>0.0</td>\n",
       "      <td>0.0</td>\n",
       "      <td>0.0</td>\n",
       "      <td>1.0</td>\n",
       "    </tr>\n",
       "    <tr>\n",
       "      <th>accounting</th>\n",
       "      <td>767.0</td>\n",
       "      <td>201.162973</td>\n",
       "      <td>51.108274</td>\n",
       "      <td>97.0</td>\n",
       "      <td>153.50</td>\n",
       "      <td>199.0</td>\n",
       "      <td>247.00</td>\n",
       "      <td>310.0</td>\n",
       "      <td>767.0</td>\n",
       "      <td>0.265971</td>\n",
       "      <td>...</td>\n",
       "      <td>4.0</td>\n",
       "      <td>10.0</td>\n",
       "      <td>767.0</td>\n",
       "      <td>0.125163</td>\n",
       "      <td>0.331120</td>\n",
       "      <td>0.0</td>\n",
       "      <td>0.0</td>\n",
       "      <td>0.0</td>\n",
       "      <td>0.0</td>\n",
       "      <td>1.0</td>\n",
       "    </tr>\n",
       "    <tr>\n",
       "      <th>hr</th>\n",
       "      <td>739.0</td>\n",
       "      <td>198.684709</td>\n",
       "      <td>50.366214</td>\n",
       "      <td>98.0</td>\n",
       "      <td>152.00</td>\n",
       "      <td>197.0</td>\n",
       "      <td>242.00</td>\n",
       "      <td>310.0</td>\n",
       "      <td>739.0</td>\n",
       "      <td>0.290934</td>\n",
       "      <td>...</td>\n",
       "      <td>4.0</td>\n",
       "      <td>8.0</td>\n",
       "      <td>739.0</td>\n",
       "      <td>0.120433</td>\n",
       "      <td>0.325688</td>\n",
       "      <td>0.0</td>\n",
       "      <td>0.0</td>\n",
       "      <td>0.0</td>\n",
       "      <td>0.0</td>\n",
       "      <td>1.0</td>\n",
       "    </tr>\n",
       "    <tr>\n",
       "      <th>management</th>\n",
       "      <td>630.0</td>\n",
       "      <td>201.249206</td>\n",
       "      <td>47.382452</td>\n",
       "      <td>97.0</td>\n",
       "      <td>161.00</td>\n",
       "      <td>204.0</td>\n",
       "      <td>243.00</td>\n",
       "      <td>307.0</td>\n",
       "      <td>630.0</td>\n",
       "      <td>0.144444</td>\n",
       "      <td>...</td>\n",
       "      <td>5.0</td>\n",
       "      <td>10.0</td>\n",
       "      <td>630.0</td>\n",
       "      <td>0.163492</td>\n",
       "      <td>0.370108</td>\n",
       "      <td>0.0</td>\n",
       "      <td>0.0</td>\n",
       "      <td>0.0</td>\n",
       "      <td>0.0</td>\n",
       "      <td>1.0</td>\n",
       "    </tr>\n",
       "    <tr>\n",
       "      <th>marketing</th>\n",
       "      <td>858.0</td>\n",
       "      <td>199.385781</td>\n",
       "      <td>49.356930</td>\n",
       "      <td>96.0</td>\n",
       "      <td>154.00</td>\n",
       "      <td>198.0</td>\n",
       "      <td>242.00</td>\n",
       "      <td>310.0</td>\n",
       "      <td>858.0</td>\n",
       "      <td>0.236597</td>\n",
       "      <td>...</td>\n",
       "      <td>4.0</td>\n",
       "      <td>10.0</td>\n",
       "      <td>858.0</td>\n",
       "      <td>0.160839</td>\n",
       "      <td>0.367597</td>\n",
       "      <td>0.0</td>\n",
       "      <td>0.0</td>\n",
       "      <td>0.0</td>\n",
       "      <td>0.0</td>\n",
       "      <td>1.0</td>\n",
       "    </tr>\n",
       "    <tr>\n",
       "      <th>product_mng</th>\n",
       "      <td>902.0</td>\n",
       "      <td>199.965632</td>\n",
       "      <td>50.112636</td>\n",
       "      <td>98.0</td>\n",
       "      <td>155.00</td>\n",
       "      <td>198.0</td>\n",
       "      <td>244.00</td>\n",
       "      <td>310.0</td>\n",
       "      <td>902.0</td>\n",
       "      <td>0.219512</td>\n",
       "      <td>...</td>\n",
       "      <td>4.0</td>\n",
       "      <td>10.0</td>\n",
       "      <td>902.0</td>\n",
       "      <td>0.146341</td>\n",
       "      <td>0.353644</td>\n",
       "      <td>0.0</td>\n",
       "      <td>0.0</td>\n",
       "      <td>0.0</td>\n",
       "      <td>0.0</td>\n",
       "      <td>1.0</td>\n",
       "    </tr>\n",
       "    <tr>\n",
       "      <th>sales</th>\n",
       "      <td>4140.0</td>\n",
       "      <td>200.911353</td>\n",
       "      <td>49.560393</td>\n",
       "      <td>96.0</td>\n",
       "      <td>156.00</td>\n",
       "      <td>201.0</td>\n",
       "      <td>245.00</td>\n",
       "      <td>310.0</td>\n",
       "      <td>4140.0</td>\n",
       "      <td>0.244928</td>\n",
       "      <td>...</td>\n",
       "      <td>4.0</td>\n",
       "      <td>10.0</td>\n",
       "      <td>4140.0</td>\n",
       "      <td>0.141787</td>\n",
       "      <td>0.348874</td>\n",
       "      <td>0.0</td>\n",
       "      <td>0.0</td>\n",
       "      <td>0.0</td>\n",
       "      <td>0.0</td>\n",
       "      <td>1.0</td>\n",
       "    </tr>\n",
       "    <tr>\n",
       "      <th>support</th>\n",
       "      <td>2229.0</td>\n",
       "      <td>200.758188</td>\n",
       "      <td>50.023687</td>\n",
       "      <td>96.0</td>\n",
       "      <td>155.00</td>\n",
       "      <td>200.0</td>\n",
       "      <td>246.00</td>\n",
       "      <td>310.0</td>\n",
       "      <td>2229.0</td>\n",
       "      <td>0.248991</td>\n",
       "      <td>...</td>\n",
       "      <td>4.0</td>\n",
       "      <td>10.0</td>\n",
       "      <td>2229.0</td>\n",
       "      <td>0.154778</td>\n",
       "      <td>0.361774</td>\n",
       "      <td>0.0</td>\n",
       "      <td>0.0</td>\n",
       "      <td>0.0</td>\n",
       "      <td>0.0</td>\n",
       "      <td>1.0</td>\n",
       "    </tr>\n",
       "    <tr>\n",
       "      <th>technical</th>\n",
       "      <td>2720.0</td>\n",
       "      <td>202.497426</td>\n",
       "      <td>50.596130</td>\n",
       "      <td>97.0</td>\n",
       "      <td>157.75</td>\n",
       "      <td>201.0</td>\n",
       "      <td>246.25</td>\n",
       "      <td>310.0</td>\n",
       "      <td>2720.0</td>\n",
       "      <td>0.256250</td>\n",
       "      <td>...</td>\n",
       "      <td>4.0</td>\n",
       "      <td>10.0</td>\n",
       "      <td>2720.0</td>\n",
       "      <td>0.140074</td>\n",
       "      <td>0.347127</td>\n",
       "      <td>0.0</td>\n",
       "      <td>0.0</td>\n",
       "      <td>0.0</td>\n",
       "      <td>0.0</td>\n",
       "      <td>1.0</td>\n",
       "    </tr>\n",
       "  </tbody>\n",
       "</table>\n",
       "<p>10 rows × 64 columns</p>\n",
       "</div>"
      ],
      "text/plain": [
       "            average_montly_hours                                              \\\n",
       "                           count        mean        std   min     25%    50%   \n",
       "department                                                                     \n",
       "IT                        1227.0  202.215974  50.688311  96.0  160.00  199.0   \n",
       "RandD                      787.0  200.800508  49.253223  98.0  157.00  200.0   \n",
       "accounting                 767.0  201.162973  51.108274  97.0  153.50  199.0   \n",
       "hr                         739.0  198.684709  50.366214  98.0  152.00  197.0   \n",
       "management                 630.0  201.249206  47.382452  97.0  161.00  204.0   \n",
       "marketing                  858.0  199.385781  49.356930  96.0  154.00  198.0   \n",
       "product_mng                902.0  199.965632  50.112636  98.0  155.00  198.0   \n",
       "sales                     4140.0  200.911353  49.560393  96.0  156.00  201.0   \n",
       "support                   2229.0  200.758188  50.023687  96.0  155.00  200.0   \n",
       "technical                 2720.0  202.497426  50.596130  97.0  157.75  201.0   \n",
       "\n",
       "                             churn           ...  time_spend_company        \\\n",
       "                75%    max   count      mean ...                 75%   max   \n",
       "department                                   ...                             \n",
       "IT           245.00  308.0  1227.0  0.222494 ...                 4.0  10.0   \n",
       "RandD        248.00  308.0   787.0  0.153748 ...                 4.0   8.0   \n",
       "accounting   247.00  310.0   767.0  0.265971 ...                 4.0  10.0   \n",
       "hr           242.00  310.0   739.0  0.290934 ...                 4.0   8.0   \n",
       "management   243.00  307.0   630.0  0.144444 ...                 5.0  10.0   \n",
       "marketing    242.00  310.0   858.0  0.236597 ...                 4.0  10.0   \n",
       "product_mng  244.00  310.0   902.0  0.219512 ...                 4.0  10.0   \n",
       "sales        245.00  310.0  4140.0  0.244928 ...                 4.0  10.0   \n",
       "support      246.00  310.0  2229.0  0.248991 ...                 4.0  10.0   \n",
       "technical    246.25  310.0  2720.0  0.256250 ...                 4.0  10.0   \n",
       "\n",
       "            work_accident                                               \n",
       "                    count      mean       std  min  25%  50%  75%  max  \n",
       "department                                                              \n",
       "IT                 1227.0  0.133659  0.340425  0.0  0.0  0.0  0.0  1.0  \n",
       "RandD               787.0  0.170267  0.376106  0.0  0.0  0.0  0.0  1.0  \n",
       "accounting          767.0  0.125163  0.331120  0.0  0.0  0.0  0.0  1.0  \n",
       "hr                  739.0  0.120433  0.325688  0.0  0.0  0.0  0.0  1.0  \n",
       "management          630.0  0.163492  0.370108  0.0  0.0  0.0  0.0  1.0  \n",
       "marketing           858.0  0.160839  0.367597  0.0  0.0  0.0  0.0  1.0  \n",
       "product_mng         902.0  0.146341  0.353644  0.0  0.0  0.0  0.0  1.0  \n",
       "sales              4140.0  0.141787  0.348874  0.0  0.0  0.0  0.0  1.0  \n",
       "support            2229.0  0.154778  0.361774  0.0  0.0  0.0  0.0  1.0  \n",
       "technical          2720.0  0.140074  0.347127  0.0  0.0  0.0  0.0  1.0  \n",
       "\n",
       "[10 rows x 64 columns]"
      ]
     },
     "execution_count": 13,
     "metadata": {},
     "output_type": "execute_result"
    }
   ],
   "source": [
    "turnover.groupby('department').describe()"
   ]
  },
  {
   "cell_type": "markdown",
   "metadata": {},
   "source": [
    "that's abit too much detail.<br>\n",
    "maybe this is better."
   ]
  },
  {
   "cell_type": "code",
   "execution_count": 14,
   "metadata": {},
   "outputs": [
    {
     "data": {
      "text/html": [
       "<div>\n",
       "<style scoped>\n",
       "    .dataframe tbody tr th:only-of-type {\n",
       "        vertical-align: middle;\n",
       "    }\n",
       "\n",
       "    .dataframe tbody tr th {\n",
       "        vertical-align: top;\n",
       "    }\n",
       "\n",
       "    .dataframe thead tr th {\n",
       "        text-align: left;\n",
       "    }\n",
       "\n",
       "    .dataframe thead tr:last-of-type th {\n",
       "        text-align: right;\n",
       "    }\n",
       "</style>\n",
       "<table border=\"1\" class=\"dataframe\">\n",
       "  <thead>\n",
       "    <tr>\n",
       "      <th></th>\n",
       "      <th colspan=\"2\" halign=\"left\">satisfaction</th>\n",
       "      <th colspan=\"2\" halign=\"left\">evaluation</th>\n",
       "      <th colspan=\"2\" halign=\"left\">number_of_projects</th>\n",
       "      <th colspan=\"2\" halign=\"left\">average_montly_hours</th>\n",
       "      <th colspan=\"2\" halign=\"left\">time_spend_company</th>\n",
       "      <th colspan=\"2\" halign=\"left\">work_accident</th>\n",
       "      <th colspan=\"2\" halign=\"left\">churn</th>\n",
       "      <th colspan=\"2\" halign=\"left\">promotion</th>\n",
       "    </tr>\n",
       "    <tr>\n",
       "      <th></th>\n",
       "      <th>mean</th>\n",
       "      <th>std</th>\n",
       "      <th>mean</th>\n",
       "      <th>std</th>\n",
       "      <th>mean</th>\n",
       "      <th>std</th>\n",
       "      <th>mean</th>\n",
       "      <th>std</th>\n",
       "      <th>mean</th>\n",
       "      <th>std</th>\n",
       "      <th>mean</th>\n",
       "      <th>std</th>\n",
       "      <th>mean</th>\n",
       "      <th>std</th>\n",
       "      <th>mean</th>\n",
       "      <th>std</th>\n",
       "    </tr>\n",
       "    <tr>\n",
       "      <th>department</th>\n",
       "      <th></th>\n",
       "      <th></th>\n",
       "      <th></th>\n",
       "      <th></th>\n",
       "      <th></th>\n",
       "      <th></th>\n",
       "      <th></th>\n",
       "      <th></th>\n",
       "      <th></th>\n",
       "      <th></th>\n",
       "      <th></th>\n",
       "      <th></th>\n",
       "      <th></th>\n",
       "      <th></th>\n",
       "      <th></th>\n",
       "      <th></th>\n",
       "    </tr>\n",
       "  </thead>\n",
       "  <tbody>\n",
       "    <tr>\n",
       "      <th>IT</th>\n",
       "      <td>0.618142</td>\n",
       "      <td>0.249903</td>\n",
       "      <td>0.716830</td>\n",
       "      <td>0.164508</td>\n",
       "      <td>3.816626</td>\n",
       "      <td>1.221658</td>\n",
       "      <td>202.215974</td>\n",
       "      <td>50.688311</td>\n",
       "      <td>3.468623</td>\n",
       "      <td>1.408302</td>\n",
       "      <td>0.133659</td>\n",
       "      <td>0.340425</td>\n",
       "      <td>0.222494</td>\n",
       "      <td>0.416091</td>\n",
       "      <td>0.002445</td>\n",
       "      <td>0.049406</td>\n",
       "    </tr>\n",
       "    <tr>\n",
       "      <th>RandD</th>\n",
       "      <td>0.619822</td>\n",
       "      <td>0.245269</td>\n",
       "      <td>0.712122</td>\n",
       "      <td>0.165093</td>\n",
       "      <td>3.853875</td>\n",
       "      <td>1.164682</td>\n",
       "      <td>200.800508</td>\n",
       "      <td>49.253223</td>\n",
       "      <td>3.367217</td>\n",
       "      <td>1.214247</td>\n",
       "      <td>0.170267</td>\n",
       "      <td>0.376106</td>\n",
       "      <td>0.153748</td>\n",
       "      <td>0.360937</td>\n",
       "      <td>0.034307</td>\n",
       "      <td>0.182134</td>\n",
       "    </tr>\n",
       "    <tr>\n",
       "      <th>accounting</th>\n",
       "      <td>0.582151</td>\n",
       "      <td>0.255235</td>\n",
       "      <td>0.717718</td>\n",
       "      <td>0.171904</td>\n",
       "      <td>3.825293</td>\n",
       "      <td>1.261288</td>\n",
       "      <td>201.162973</td>\n",
       "      <td>51.108274</td>\n",
       "      <td>3.522816</td>\n",
       "      <td>1.404650</td>\n",
       "      <td>0.125163</td>\n",
       "      <td>0.331120</td>\n",
       "      <td>0.265971</td>\n",
       "      <td>0.442137</td>\n",
       "      <td>0.018253</td>\n",
       "      <td>0.133952</td>\n",
       "    </tr>\n",
       "    <tr>\n",
       "      <th>hr</th>\n",
       "      <td>0.598809</td>\n",
       "      <td>0.247929</td>\n",
       "      <td>0.708850</td>\n",
       "      <td>0.174584</td>\n",
       "      <td>3.654939</td>\n",
       "      <td>1.229168</td>\n",
       "      <td>198.684709</td>\n",
       "      <td>50.366214</td>\n",
       "      <td>3.355886</td>\n",
       "      <td>1.169510</td>\n",
       "      <td>0.120433</td>\n",
       "      <td>0.325688</td>\n",
       "      <td>0.290934</td>\n",
       "      <td>0.454501</td>\n",
       "      <td>0.020298</td>\n",
       "      <td>0.141112</td>\n",
       "    </tr>\n",
       "    <tr>\n",
       "      <th>management</th>\n",
       "      <td>0.621349</td>\n",
       "      <td>0.227747</td>\n",
       "      <td>0.724000</td>\n",
       "      <td>0.160263</td>\n",
       "      <td>3.860317</td>\n",
       "      <td>1.181271</td>\n",
       "      <td>201.249206</td>\n",
       "      <td>47.382452</td>\n",
       "      <td>4.303175</td>\n",
       "      <td>2.425715</td>\n",
       "      <td>0.163492</td>\n",
       "      <td>0.370108</td>\n",
       "      <td>0.144444</td>\n",
       "      <td>0.351819</td>\n",
       "      <td>0.109524</td>\n",
       "      <td>0.312543</td>\n",
       "    </tr>\n",
       "    <tr>\n",
       "      <th>marketing</th>\n",
       "      <td>0.618601</td>\n",
       "      <td>0.244280</td>\n",
       "      <td>0.715886</td>\n",
       "      <td>0.173447</td>\n",
       "      <td>3.687646</td>\n",
       "      <td>1.211713</td>\n",
       "      <td>199.385781</td>\n",
       "      <td>49.356930</td>\n",
       "      <td>3.569930</td>\n",
       "      <td>1.536907</td>\n",
       "      <td>0.160839</td>\n",
       "      <td>0.367597</td>\n",
       "      <td>0.236597</td>\n",
       "      <td>0.425240</td>\n",
       "      <td>0.050117</td>\n",
       "      <td>0.218313</td>\n",
       "    </tr>\n",
       "    <tr>\n",
       "      <th>product_mng</th>\n",
       "      <td>0.619634</td>\n",
       "      <td>0.242279</td>\n",
       "      <td>0.714756</td>\n",
       "      <td>0.178147</td>\n",
       "      <td>3.807095</td>\n",
       "      <td>1.244047</td>\n",
       "      <td>199.965632</td>\n",
       "      <td>50.112636</td>\n",
       "      <td>3.475610</td>\n",
       "      <td>1.428644</td>\n",
       "      <td>0.146341</td>\n",
       "      <td>0.353644</td>\n",
       "      <td>0.219512</td>\n",
       "      <td>0.414146</td>\n",
       "      <td>0.000000</td>\n",
       "      <td>0.000000</td>\n",
       "    </tr>\n",
       "    <tr>\n",
       "      <th>sales</th>\n",
       "      <td>0.614447</td>\n",
       "      <td>0.250251</td>\n",
       "      <td>0.709717</td>\n",
       "      <td>0.171459</td>\n",
       "      <td>3.776329</td>\n",
       "      <td>1.242798</td>\n",
       "      <td>200.911353</td>\n",
       "      <td>49.560393</td>\n",
       "      <td>3.534058</td>\n",
       "      <td>1.512307</td>\n",
       "      <td>0.141787</td>\n",
       "      <td>0.348874</td>\n",
       "      <td>0.244928</td>\n",
       "      <td>0.430096</td>\n",
       "      <td>0.024155</td>\n",
       "      <td>0.153548</td>\n",
       "    </tr>\n",
       "    <tr>\n",
       "      <th>support</th>\n",
       "      <td>0.618300</td>\n",
       "      <td>0.246406</td>\n",
       "      <td>0.723109</td>\n",
       "      <td>0.171224</td>\n",
       "      <td>3.803948</td>\n",
       "      <td>1.212096</td>\n",
       "      <td>200.758188</td>\n",
       "      <td>50.023687</td>\n",
       "      <td>3.393001</td>\n",
       "      <td>1.340860</td>\n",
       "      <td>0.154778</td>\n",
       "      <td>0.361774</td>\n",
       "      <td>0.248991</td>\n",
       "      <td>0.432525</td>\n",
       "      <td>0.008973</td>\n",
       "      <td>0.094319</td>\n",
       "    </tr>\n",
       "    <tr>\n",
       "      <th>technical</th>\n",
       "      <td>0.607897</td>\n",
       "      <td>0.254193</td>\n",
       "      <td>0.721099</td>\n",
       "      <td>0.173364</td>\n",
       "      <td>3.877941</td>\n",
       "      <td>1.258948</td>\n",
       "      <td>202.497426</td>\n",
       "      <td>50.596130</td>\n",
       "      <td>3.411397</td>\n",
       "      <td>1.262619</td>\n",
       "      <td>0.140074</td>\n",
       "      <td>0.347127</td>\n",
       "      <td>0.256250</td>\n",
       "      <td>0.436642</td>\n",
       "      <td>0.010294</td>\n",
       "      <td>0.100955</td>\n",
       "    </tr>\n",
       "  </tbody>\n",
       "</table>\n",
       "</div>"
      ],
      "text/plain": [
       "            satisfaction           evaluation           number_of_projects  \\\n",
       "                    mean       std       mean       std               mean   \n",
       "department                                                                   \n",
       "IT              0.618142  0.249903   0.716830  0.164508           3.816626   \n",
       "RandD           0.619822  0.245269   0.712122  0.165093           3.853875   \n",
       "accounting      0.582151  0.255235   0.717718  0.171904           3.825293   \n",
       "hr              0.598809  0.247929   0.708850  0.174584           3.654939   \n",
       "management      0.621349  0.227747   0.724000  0.160263           3.860317   \n",
       "marketing       0.618601  0.244280   0.715886  0.173447           3.687646   \n",
       "product_mng     0.619634  0.242279   0.714756  0.178147           3.807095   \n",
       "sales           0.614447  0.250251   0.709717  0.171459           3.776329   \n",
       "support         0.618300  0.246406   0.723109  0.171224           3.803948   \n",
       "technical       0.607897  0.254193   0.721099  0.173364           3.877941   \n",
       "\n",
       "                      average_montly_hours            time_spend_company  \\\n",
       "                  std                 mean        std               mean   \n",
       "department                                                                 \n",
       "IT           1.221658           202.215974  50.688311           3.468623   \n",
       "RandD        1.164682           200.800508  49.253223           3.367217   \n",
       "accounting   1.261288           201.162973  51.108274           3.522816   \n",
       "hr           1.229168           198.684709  50.366214           3.355886   \n",
       "management   1.181271           201.249206  47.382452           4.303175   \n",
       "marketing    1.211713           199.385781  49.356930           3.569930   \n",
       "product_mng  1.244047           199.965632  50.112636           3.475610   \n",
       "sales        1.242798           200.911353  49.560393           3.534058   \n",
       "support      1.212096           200.758188  50.023687           3.393001   \n",
       "technical    1.258948           202.497426  50.596130           3.411397   \n",
       "\n",
       "                      work_accident               churn           promotion  \\\n",
       "                  std          mean       std      mean       std      mean   \n",
       "department                                                                    \n",
       "IT           1.408302      0.133659  0.340425  0.222494  0.416091  0.002445   \n",
       "RandD        1.214247      0.170267  0.376106  0.153748  0.360937  0.034307   \n",
       "accounting   1.404650      0.125163  0.331120  0.265971  0.442137  0.018253   \n",
       "hr           1.169510      0.120433  0.325688  0.290934  0.454501  0.020298   \n",
       "management   2.425715      0.163492  0.370108  0.144444  0.351819  0.109524   \n",
       "marketing    1.536907      0.160839  0.367597  0.236597  0.425240  0.050117   \n",
       "product_mng  1.428644      0.146341  0.353644  0.219512  0.414146  0.000000   \n",
       "sales        1.512307      0.141787  0.348874  0.244928  0.430096  0.024155   \n",
       "support      1.340860      0.154778  0.361774  0.248991  0.432525  0.008973   \n",
       "technical    1.262619      0.140074  0.347127  0.256250  0.436642  0.010294   \n",
       "\n",
       "                       \n",
       "                  std  \n",
       "department             \n",
       "IT           0.049406  \n",
       "RandD        0.182134  \n",
       "accounting   0.133952  \n",
       "hr           0.141112  \n",
       "management   0.312543  \n",
       "marketing    0.218313  \n",
       "product_mng  0.000000  \n",
       "sales        0.153548  \n",
       "support      0.094319  \n",
       "technical    0.100955  "
      ]
     },
     "execution_count": 14,
     "metadata": {},
     "output_type": "execute_result"
    }
   ],
   "source": [
    "turnover.groupby('department').agg(['mean', 'std'])"
   ]
  },
  {
   "cell_type": "markdown",
   "metadata": {},
   "source": [
    "### Turn over rate:"
   ]
  },
  {
   "cell_type": "code",
   "execution_count": 15,
   "metadata": {},
   "outputs": [
    {
     "name": "stdout",
     "output_type": "stream",
     "text": [
      "0    76.191746\n",
      "1    23.808254\n",
      "Name: churn, dtype: float64\n"
     ]
    }
   ],
   "source": [
    "n_employees = len(turnover)\n",
    "print(turnover.churn.value_counts()/n_employees*100)"
   ]
  },
  {
   "cell_type": "markdown",
   "metadata": {},
   "source": [
    "The percentage of employee that left the company is around 24%, with 76% of employees choosing to stay with the company."
   ]
  },
  {
   "cell_type": "markdown",
   "metadata": {},
   "source": [
    "### Correlations"
   ]
  },
  {
   "cell_type": "code",
   "execution_count": 16,
   "metadata": {},
   "outputs": [
    {
     "data": {
      "text/html": [
       "<div>\n",
       "<style scoped>\n",
       "    .dataframe tbody tr th:only-of-type {\n",
       "        vertical-align: middle;\n",
       "    }\n",
       "\n",
       "    .dataframe tbody tr th {\n",
       "        vertical-align: top;\n",
       "    }\n",
       "\n",
       "    .dataframe thead th {\n",
       "        text-align: right;\n",
       "    }\n",
       "</style>\n",
       "<table border=\"1\" class=\"dataframe\">\n",
       "  <thead>\n",
       "    <tr style=\"text-align: right;\">\n",
       "      <th></th>\n",
       "      <th>satisfaction</th>\n",
       "      <th>evaluation</th>\n",
       "      <th>number_of_projects</th>\n",
       "      <th>average_montly_hours</th>\n",
       "      <th>time_spend_company</th>\n",
       "      <th>work_accident</th>\n",
       "      <th>churn</th>\n",
       "      <th>promotion</th>\n",
       "    </tr>\n",
       "  </thead>\n",
       "  <tbody>\n",
       "    <tr>\n",
       "      <th>satisfaction</th>\n",
       "      <td>1.000000</td>\n",
       "      <td>0.105021</td>\n",
       "      <td>-0.142970</td>\n",
       "      <td>-0.020048</td>\n",
       "      <td>-0.100866</td>\n",
       "      <td>0.058697</td>\n",
       "      <td>-0.388375</td>\n",
       "      <td>0.025605</td>\n",
       "    </tr>\n",
       "    <tr>\n",
       "      <th>evaluation</th>\n",
       "      <td>0.105021</td>\n",
       "      <td>1.000000</td>\n",
       "      <td>0.349333</td>\n",
       "      <td>0.339742</td>\n",
       "      <td>0.131591</td>\n",
       "      <td>-0.007104</td>\n",
       "      <td>0.006567</td>\n",
       "      <td>-0.008684</td>\n",
       "    </tr>\n",
       "    <tr>\n",
       "      <th>number_of_projects</th>\n",
       "      <td>-0.142970</td>\n",
       "      <td>0.349333</td>\n",
       "      <td>1.000000</td>\n",
       "      <td>0.417211</td>\n",
       "      <td>0.196786</td>\n",
       "      <td>-0.004741</td>\n",
       "      <td>0.023787</td>\n",
       "      <td>-0.006064</td>\n",
       "    </tr>\n",
       "    <tr>\n",
       "      <th>average_montly_hours</th>\n",
       "      <td>-0.020048</td>\n",
       "      <td>0.339742</td>\n",
       "      <td>0.417211</td>\n",
       "      <td>1.000000</td>\n",
       "      <td>0.127755</td>\n",
       "      <td>-0.010143</td>\n",
       "      <td>0.071287</td>\n",
       "      <td>-0.003544</td>\n",
       "    </tr>\n",
       "    <tr>\n",
       "      <th>time_spend_company</th>\n",
       "      <td>-0.100866</td>\n",
       "      <td>0.131591</td>\n",
       "      <td>0.196786</td>\n",
       "      <td>0.127755</td>\n",
       "      <td>1.000000</td>\n",
       "      <td>0.002120</td>\n",
       "      <td>0.144822</td>\n",
       "      <td>0.067433</td>\n",
       "    </tr>\n",
       "    <tr>\n",
       "      <th>work_accident</th>\n",
       "      <td>0.058697</td>\n",
       "      <td>-0.007104</td>\n",
       "      <td>-0.004741</td>\n",
       "      <td>-0.010143</td>\n",
       "      <td>0.002120</td>\n",
       "      <td>1.000000</td>\n",
       "      <td>-0.154622</td>\n",
       "      <td>0.039245</td>\n",
       "    </tr>\n",
       "    <tr>\n",
       "      <th>churn</th>\n",
       "      <td>-0.388375</td>\n",
       "      <td>0.006567</td>\n",
       "      <td>0.023787</td>\n",
       "      <td>0.071287</td>\n",
       "      <td>0.144822</td>\n",
       "      <td>-0.154622</td>\n",
       "      <td>1.000000</td>\n",
       "      <td>-0.061788</td>\n",
       "    </tr>\n",
       "    <tr>\n",
       "      <th>promotion</th>\n",
       "      <td>0.025605</td>\n",
       "      <td>-0.008684</td>\n",
       "      <td>-0.006064</td>\n",
       "      <td>-0.003544</td>\n",
       "      <td>0.067433</td>\n",
       "      <td>0.039245</td>\n",
       "      <td>-0.061788</td>\n",
       "      <td>1.000000</td>\n",
       "    </tr>\n",
       "  </tbody>\n",
       "</table>\n",
       "</div>"
      ],
      "text/plain": [
       "                      satisfaction  evaluation  number_of_projects  \\\n",
       "satisfaction              1.000000    0.105021           -0.142970   \n",
       "evaluation                0.105021    1.000000            0.349333   \n",
       "number_of_projects       -0.142970    0.349333            1.000000   \n",
       "average_montly_hours     -0.020048    0.339742            0.417211   \n",
       "time_spend_company       -0.100866    0.131591            0.196786   \n",
       "work_accident             0.058697   -0.007104           -0.004741   \n",
       "churn                    -0.388375    0.006567            0.023787   \n",
       "promotion                 0.025605   -0.008684           -0.006064   \n",
       "\n",
       "                      average_montly_hours  time_spend_company  work_accident  \\\n",
       "satisfaction                     -0.020048           -0.100866       0.058697   \n",
       "evaluation                        0.339742            0.131591      -0.007104   \n",
       "number_of_projects                0.417211            0.196786      -0.004741   \n",
       "average_montly_hours              1.000000            0.127755      -0.010143   \n",
       "time_spend_company                0.127755            1.000000       0.002120   \n",
       "work_accident                    -0.010143            0.002120       1.000000   \n",
       "churn                             0.071287            0.144822      -0.154622   \n",
       "promotion                        -0.003544            0.067433       0.039245   \n",
       "\n",
       "                         churn  promotion  \n",
       "satisfaction         -0.388375   0.025605  \n",
       "evaluation            0.006567  -0.008684  \n",
       "number_of_projects    0.023787  -0.006064  \n",
       "average_montly_hours  0.071287  -0.003544  \n",
       "time_spend_company    0.144822   0.067433  \n",
       "work_accident        -0.154622   0.039245  \n",
       "churn                 1.000000  -0.061788  \n",
       "promotion            -0.061788   1.000000  "
      ]
     },
     "execution_count": 16,
     "metadata": {},
     "output_type": "execute_result"
    }
   ],
   "source": [
    "turnover.corr()"
   ]
  },
  {
   "cell_type": "markdown",
   "metadata": {},
   "source": [
    "It is easier to visualise correlations in a heatmap"
   ]
  },
  {
   "cell_type": "code",
   "execution_count": 17,
   "metadata": {},
   "outputs": [
    {
     "data": {
      "image/png": "[encoded data removed]",
      "text/plain": [
       "<Figure size 432x288 with 2 Axes>"
      ]
     },
     "metadata": {},
     "output_type": "display_data"
    }
   ],
   "source": [
    "sns.heatmap(turnover.corr(), cmap='coolwarm')\n",
    "plt.title('Heatmap of correlating variables'); plt.show()"
   ]
  },
  {
   "cell_type": "code",
   "execution_count": 18,
   "metadata": {},
   "outputs": [
    {
     "data": {
      "text/html": [
       "<div>\n",
       "<style scoped>\n",
       "    .dataframe tbody tr th:only-of-type {\n",
       "        vertical-align: middle;\n",
       "    }\n",
       "\n",
       "    .dataframe tbody tr th {\n",
       "        vertical-align: top;\n",
       "    }\n",
       "\n",
       "    .dataframe thead th {\n",
       "        text-align: right;\n",
       "    }\n",
       "</style>\n",
       "<table border=\"1\" class=\"dataframe\">\n",
       "  <thead>\n",
       "    <tr style=\"text-align: right;\">\n",
       "      <th></th>\n",
       "      <th>satisfaction</th>\n",
       "      <th>churn</th>\n",
       "    </tr>\n",
       "  </thead>\n",
       "  <tbody>\n",
       "    <tr>\n",
       "      <th>satisfaction</th>\n",
       "      <td>1.000000</td>\n",
       "      <td>-0.388375</td>\n",
       "    </tr>\n",
       "    <tr>\n",
       "      <th>churn</th>\n",
       "      <td>-0.388375</td>\n",
       "      <td>1.000000</td>\n",
       "    </tr>\n",
       "  </tbody>\n",
       "</table>\n",
       "</div>"
      ],
      "text/plain": [
       "              satisfaction     churn\n",
       "satisfaction      1.000000 -0.388375\n",
       "churn            -0.388375  1.000000"
      ]
     },
     "execution_count": 18,
     "metadata": {},
     "output_type": "execute_result"
    }
   ],
   "source": [
    "turnover[['satisfaction', 'churn']].corr()"
   ]
  },
  {
   "cell_type": "markdown",
   "metadata": {},
   "source": [
    "There is a strong negative correlation between employee satisfaction and churn. <br> Which means the higher the employees satisfaction, the less likely the employee is to leave the company."
   ]
  },
  {
   "cell_type": "markdown",
   "metadata": {},
   "source": [
    "---"
   ]
  },
  {
   "cell_type": "markdown",
   "metadata": {},
   "source": [
    "### Categorical Variables"
   ]
  },
  {
   "cell_type": "markdown",
   "metadata": {},
   "source": [
    "#### salary column\n"
   ]
  },
  {
   "cell_type": "markdown",
   "metadata": {},
   "source": [
    "The salary column is an ordinal categrical feature, meaning 'medium' is higher than 'low' but lower than 'high' "
   ]
  },
  {
   "cell_type": "code",
   "execution_count": 19,
   "metadata": {},
   "outputs": [],
   "source": [
    "turnover.salary = turnover.salary.astype('category')"
   ]
  },
  {
   "cell_type": "code",
   "execution_count": 20,
   "metadata": {},
   "outputs": [],
   "source": [
    "# order salary category in ascending order\n",
    "turnover.salary = turnover.salary.cat.reorder_categories(['low', 'medium', 'high'])"
   ]
  },
  {
   "cell_type": "markdown",
   "metadata": {},
   "source": [
    "Since sklearn models only works with numerical type data, we convert the categories into codes:"
   ]
  },
  {
   "cell_type": "code",
   "execution_count": 21,
   "metadata": {},
   "outputs": [],
   "source": [
    "turnover.salary = turnover.salary.cat.codes"
   ]
  },
  {
   "cell_type": "code",
   "execution_count": 22,
   "metadata": {},
   "outputs": [
    {
     "data": {
      "text/html": [
       "<div>\n",
       "<style scoped>\n",
       "    .dataframe tbody tr th:only-of-type {\n",
       "        vertical-align: middle;\n",
       "    }\n",
       "\n",
       "    .dataframe tbody tr th {\n",
       "        vertical-align: top;\n",
       "    }\n",
       "\n",
       "    .dataframe thead th {\n",
       "        text-align: right;\n",
       "    }\n",
       "</style>\n",
       "<table border=\"1\" class=\"dataframe\">\n",
       "  <thead>\n",
       "    <tr style=\"text-align: right;\">\n",
       "      <th></th>\n",
       "      <th>satisfaction</th>\n",
       "      <th>evaluation</th>\n",
       "      <th>number_of_projects</th>\n",
       "      <th>average_montly_hours</th>\n",
       "      <th>time_spend_company</th>\n",
       "      <th>work_accident</th>\n",
       "      <th>churn</th>\n",
       "      <th>promotion</th>\n",
       "      <th>department</th>\n",
       "      <th>salary</th>\n",
       "    </tr>\n",
       "  </thead>\n",
       "  <tbody>\n",
       "    <tr>\n",
       "      <th>0</th>\n",
       "      <td>0.38</td>\n",
       "      <td>0.53</td>\n",
       "      <td>2</td>\n",
       "      <td>157</td>\n",
       "      <td>3</td>\n",
       "      <td>0</td>\n",
       "      <td>1</td>\n",
       "      <td>0</td>\n",
       "      <td>sales</td>\n",
       "      <td>0</td>\n",
       "    </tr>\n",
       "    <tr>\n",
       "      <th>1</th>\n",
       "      <td>0.80</td>\n",
       "      <td>0.86</td>\n",
       "      <td>5</td>\n",
       "      <td>262</td>\n",
       "      <td>6</td>\n",
       "      <td>0</td>\n",
       "      <td>1</td>\n",
       "      <td>0</td>\n",
       "      <td>sales</td>\n",
       "      <td>1</td>\n",
       "    </tr>\n",
       "    <tr>\n",
       "      <th>2</th>\n",
       "      <td>0.11</td>\n",
       "      <td>0.88</td>\n",
       "      <td>7</td>\n",
       "      <td>272</td>\n",
       "      <td>4</td>\n",
       "      <td>0</td>\n",
       "      <td>1</td>\n",
       "      <td>0</td>\n",
       "      <td>sales</td>\n",
       "      <td>1</td>\n",
       "    </tr>\n",
       "    <tr>\n",
       "      <th>3</th>\n",
       "      <td>0.72</td>\n",
       "      <td>0.87</td>\n",
       "      <td>5</td>\n",
       "      <td>223</td>\n",
       "      <td>5</td>\n",
       "      <td>0</td>\n",
       "      <td>1</td>\n",
       "      <td>0</td>\n",
       "      <td>sales</td>\n",
       "      <td>0</td>\n",
       "    </tr>\n",
       "    <tr>\n",
       "      <th>4</th>\n",
       "      <td>0.37</td>\n",
       "      <td>0.52</td>\n",
       "      <td>2</td>\n",
       "      <td>159</td>\n",
       "      <td>3</td>\n",
       "      <td>0</td>\n",
       "      <td>1</td>\n",
       "      <td>0</td>\n",
       "      <td>sales</td>\n",
       "      <td>0</td>\n",
       "    </tr>\n",
       "  </tbody>\n",
       "</table>\n",
       "</div>"
      ],
      "text/plain": [
       "   satisfaction  evaluation  number_of_projects  average_montly_hours  \\\n",
       "0          0.38        0.53                   2                   157   \n",
       "1          0.80        0.86                   5                   262   \n",
       "2          0.11        0.88                   7                   272   \n",
       "3          0.72        0.87                   5                   223   \n",
       "4          0.37        0.52                   2                   159   \n",
       "\n",
       "   time_spend_company  work_accident  churn  promotion department  salary  \n",
       "0                   3              0      1          0      sales       0  \n",
       "1                   6              0      1          0      sales       1  \n",
       "2                   4              0      1          0      sales       1  \n",
       "3                   5              0      1          0      sales       0  \n",
       "4                   3              0      1          0      sales       0  "
      ]
     },
     "execution_count": 22,
     "metadata": {},
     "output_type": "execute_result"
    }
   ],
   "source": [
    "turnover.head()"
   ]
  },
  {
   "cell_type": "markdown",
   "metadata": {},
   "source": [
    "Looking at the data now; <br>'low' is coded as `0` <br> 'medium' is coded as `1` and <br>'high' as `2` "
   ]
  },
  {
   "cell_type": "markdown",
   "metadata": {},
   "source": [
    "#### department column\n"
   ]
  },
  {
   "cell_type": "markdown",
   "metadata": {},
   "source": [
    "The department variable names the different departments each employee belongs to. There is no heirarchy with one department being \"higher\" than another.<br>These are called nominal variables, and the order doesn't matter.<br>\n",
    "There are many ways to create dummy variables but the easiest is to use the Pandas `.get_dummies()` method. <br>\n",
    "To avoid the ['dummy trap'](insert_link) we set the `drop_first` parameter to True."
   ]
  },
  {
   "cell_type": "code",
   "execution_count": 23,
   "metadata": {},
   "outputs": [],
   "source": [
    "departments = pd.get_dummies(turnover.department, drop_first=True)"
   ]
  },
  {
   "cell_type": "markdown",
   "metadata": {},
   "source": [
    "Lets have a look at the new departments dataframe:"
   ]
  },
  {
   "cell_type": "code",
   "execution_count": 24,
   "metadata": {},
   "outputs": [
    {
     "data": {
      "text/html": [
       "<div>\n",
       "<style scoped>\n",
       "    .dataframe tbody tr th:only-of-type {\n",
       "        vertical-align: middle;\n",
       "    }\n",
       "\n",
       "    .dataframe tbody tr th {\n",
       "        vertical-align: top;\n",
       "    }\n",
       "\n",
       "    .dataframe thead th {\n",
       "        text-align: right;\n",
       "    }\n",
       "</style>\n",
       "<table border=\"1\" class=\"dataframe\">\n",
       "  <thead>\n",
       "    <tr style=\"text-align: right;\">\n",
       "      <th></th>\n",
       "      <th>RandD</th>\n",
       "      <th>accounting</th>\n",
       "      <th>hr</th>\n",
       "      <th>management</th>\n",
       "      <th>marketing</th>\n",
       "      <th>product_mng</th>\n",
       "      <th>sales</th>\n",
       "      <th>support</th>\n",
       "      <th>technical</th>\n",
       "    </tr>\n",
       "  </thead>\n",
       "  <tbody>\n",
       "    <tr>\n",
       "      <th>14994</th>\n",
       "      <td>0</td>\n",
       "      <td>0</td>\n",
       "      <td>0</td>\n",
       "      <td>0</td>\n",
       "      <td>0</td>\n",
       "      <td>0</td>\n",
       "      <td>0</td>\n",
       "      <td>1</td>\n",
       "      <td>0</td>\n",
       "    </tr>\n",
       "    <tr>\n",
       "      <th>14995</th>\n",
       "      <td>0</td>\n",
       "      <td>0</td>\n",
       "      <td>0</td>\n",
       "      <td>0</td>\n",
       "      <td>0</td>\n",
       "      <td>0</td>\n",
       "      <td>0</td>\n",
       "      <td>1</td>\n",
       "      <td>0</td>\n",
       "    </tr>\n",
       "    <tr>\n",
       "      <th>14996</th>\n",
       "      <td>0</td>\n",
       "      <td>0</td>\n",
       "      <td>0</td>\n",
       "      <td>0</td>\n",
       "      <td>0</td>\n",
       "      <td>0</td>\n",
       "      <td>0</td>\n",
       "      <td>1</td>\n",
       "      <td>0</td>\n",
       "    </tr>\n",
       "    <tr>\n",
       "      <th>14997</th>\n",
       "      <td>0</td>\n",
       "      <td>0</td>\n",
       "      <td>0</td>\n",
       "      <td>0</td>\n",
       "      <td>0</td>\n",
       "      <td>0</td>\n",
       "      <td>0</td>\n",
       "      <td>1</td>\n",
       "      <td>0</td>\n",
       "    </tr>\n",
       "    <tr>\n",
       "      <th>14998</th>\n",
       "      <td>0</td>\n",
       "      <td>0</td>\n",
       "      <td>0</td>\n",
       "      <td>0</td>\n",
       "      <td>0</td>\n",
       "      <td>0</td>\n",
       "      <td>0</td>\n",
       "      <td>1</td>\n",
       "      <td>0</td>\n",
       "    </tr>\n",
       "  </tbody>\n",
       "</table>\n",
       "</div>"
      ],
      "text/plain": [
       "       RandD  accounting  hr  management  marketing  product_mng  sales  \\\n",
       "14994      0           0   0           0          0            0      0   \n",
       "14995      0           0   0           0          0            0      0   \n",
       "14996      0           0   0           0          0            0      0   \n",
       "14997      0           0   0           0          0            0      0   \n",
       "14998      0           0   0           0          0            0      0   \n",
       "\n",
       "       support  technical  \n",
       "14994        1          0  \n",
       "14995        1          0  \n",
       "14996        1          0  \n",
       "14997        1          0  \n",
       "14998        1          0  "
      ]
     },
     "execution_count": 24,
     "metadata": {},
     "output_type": "execute_result"
    }
   ],
   "source": [
    "departments.tail()"
   ]
  },
  {
   "cell_type": "markdown",
   "metadata": {},
   "source": [
    "Let's check: <br>\n",
    "find an employee that belongs to 'marketing'"
   ]
  },
  {
   "cell_type": "code",
   "execution_count": 25,
   "metadata": {},
   "outputs": [
    {
     "data": {
      "text/html": [
       "<div>\n",
       "<style scoped>\n",
       "    .dataframe tbody tr th:only-of-type {\n",
       "        vertical-align: middle;\n",
       "    }\n",
       "\n",
       "    .dataframe tbody tr th {\n",
       "        vertical-align: top;\n",
       "    }\n",
       "\n",
       "    .dataframe thead th {\n",
       "        text-align: right;\n",
       "    }\n",
       "</style>\n",
       "<table border=\"1\" class=\"dataframe\">\n",
       "  <thead>\n",
       "    <tr style=\"text-align: right;\">\n",
       "      <th></th>\n",
       "      <th>satisfaction</th>\n",
       "      <th>evaluation</th>\n",
       "      <th>number_of_projects</th>\n",
       "      <th>average_montly_hours</th>\n",
       "      <th>time_spend_company</th>\n",
       "      <th>work_accident</th>\n",
       "      <th>churn</th>\n",
       "      <th>promotion</th>\n",
       "      <th>department</th>\n",
       "      <th>salary</th>\n",
       "    </tr>\n",
       "  </thead>\n",
       "  <tbody>\n",
       "    <tr>\n",
       "      <th>77</th>\n",
       "      <td>0.4</td>\n",
       "      <td>0.54</td>\n",
       "      <td>2</td>\n",
       "      <td>137</td>\n",
       "      <td>3</td>\n",
       "      <td>0</td>\n",
       "      <td>1</td>\n",
       "      <td>0</td>\n",
       "      <td>marketing</td>\n",
       "      <td>1</td>\n",
       "    </tr>\n",
       "  </tbody>\n",
       "</table>\n",
       "</div>"
      ],
      "text/plain": [
       "    satisfaction  evaluation  number_of_projects  average_montly_hours  \\\n",
       "77           0.4        0.54                   2                   137   \n",
       "\n",
       "    time_spend_company  work_accident  churn  promotion department  salary  \n",
       "77                   3              0      1          0  marketing       1  "
      ]
     },
     "execution_count": 25,
     "metadata": {},
     "output_type": "execute_result"
    }
   ],
   "source": [
    "turnover[turnover.department=='marketing'].head(1)"
   ]
  },
  {
   "cell_type": "markdown",
   "metadata": {},
   "source": [
    "Let's check that the dummy variable has been coded correctly (using the same index)"
   ]
  },
  {
   "cell_type": "code",
   "execution_count": 26,
   "metadata": {},
   "outputs": [
    {
     "data": {
      "text/plain": [
       "RandD          0\n",
       "accounting     0\n",
       "hr             0\n",
       "management     0\n",
       "marketing      1\n",
       "product_mng    0\n",
       "sales          0\n",
       "support        0\n",
       "technical      0\n",
       "Name: 77, dtype: uint8"
      ]
     },
     "execution_count": 26,
     "metadata": {},
     "output_type": "execute_result"
    }
   ],
   "source": [
    "departments.iloc[77]"
   ]
  },
  {
   "cell_type": "markdown",
   "metadata": {},
   "source": [
    "Success! <br>\n",
    "Now to merge the datasets and prepare the data for training our model"
   ]
  },
  {
   "cell_type": "markdown",
   "metadata": {},
   "source": [
    "### training data\n"
   ]
  },
  {
   "cell_type": "code",
   "execution_count": 27,
   "metadata": {},
   "outputs": [],
   "source": [
    "# set the seed for reproducicability\n",
    "SEED = 42"
   ]
  },
  {
   "cell_type": "markdown",
   "metadata": {},
   "source": [
    "Merge the data sets"
   ]
  },
  {
   "cell_type": "code",
   "execution_count": 28,
   "metadata": {},
   "outputs": [],
   "source": [
    "data = turnover.join(departments)"
   ]
  },
  {
   "cell_type": "code",
   "execution_count": 29,
   "metadata": {},
   "outputs": [
    {
     "data": {
      "text/html": [
       "<div>\n",
       "<style scoped>\n",
       "    .dataframe tbody tr th:only-of-type {\n",
       "        vertical-align: middle;\n",
       "    }\n",
       "\n",
       "    .dataframe tbody tr th {\n",
       "        vertical-align: top;\n",
       "    }\n",
       "\n",
       "    .dataframe thead th {\n",
       "        text-align: right;\n",
       "    }\n",
       "</style>\n",
       "<table border=\"1\" class=\"dataframe\">\n",
       "  <thead>\n",
       "    <tr style=\"text-align: right;\">\n",
       "      <th></th>\n",
       "      <th>satisfaction</th>\n",
       "      <th>evaluation</th>\n",
       "      <th>number_of_projects</th>\n",
       "      <th>average_montly_hours</th>\n",
       "      <th>time_spend_company</th>\n",
       "      <th>work_accident</th>\n",
       "      <th>churn</th>\n",
       "      <th>promotion</th>\n",
       "      <th>department</th>\n",
       "      <th>salary</th>\n",
       "      <th>RandD</th>\n",
       "      <th>accounting</th>\n",
       "      <th>hr</th>\n",
       "      <th>management</th>\n",
       "      <th>marketing</th>\n",
       "      <th>product_mng</th>\n",
       "      <th>sales</th>\n",
       "      <th>support</th>\n",
       "      <th>technical</th>\n",
       "    </tr>\n",
       "  </thead>\n",
       "  <tbody>\n",
       "    <tr>\n",
       "      <th>0</th>\n",
       "      <td>0.38</td>\n",
       "      <td>0.53</td>\n",
       "      <td>2</td>\n",
       "      <td>157</td>\n",
       "      <td>3</td>\n",
       "      <td>0</td>\n",
       "      <td>1</td>\n",
       "      <td>0</td>\n",
       "      <td>sales</td>\n",
       "      <td>0</td>\n",
       "      <td>0</td>\n",
       "      <td>0</td>\n",
       "      <td>0</td>\n",
       "      <td>0</td>\n",
       "      <td>0</td>\n",
       "      <td>0</td>\n",
       "      <td>1</td>\n",
       "      <td>0</td>\n",
       "      <td>0</td>\n",
       "    </tr>\n",
       "    <tr>\n",
       "      <th>1</th>\n",
       "      <td>0.80</td>\n",
       "      <td>0.86</td>\n",
       "      <td>5</td>\n",
       "      <td>262</td>\n",
       "      <td>6</td>\n",
       "      <td>0</td>\n",
       "      <td>1</td>\n",
       "      <td>0</td>\n",
       "      <td>sales</td>\n",
       "      <td>1</td>\n",
       "      <td>0</td>\n",
       "      <td>0</td>\n",
       "      <td>0</td>\n",
       "      <td>0</td>\n",
       "      <td>0</td>\n",
       "      <td>0</td>\n",
       "      <td>1</td>\n",
       "      <td>0</td>\n",
       "      <td>0</td>\n",
       "    </tr>\n",
       "    <tr>\n",
       "      <th>2</th>\n",
       "      <td>0.11</td>\n",
       "      <td>0.88</td>\n",
       "      <td>7</td>\n",
       "      <td>272</td>\n",
       "      <td>4</td>\n",
       "      <td>0</td>\n",
       "      <td>1</td>\n",
       "      <td>0</td>\n",
       "      <td>sales</td>\n",
       "      <td>1</td>\n",
       "      <td>0</td>\n",
       "      <td>0</td>\n",
       "      <td>0</td>\n",
       "      <td>0</td>\n",
       "      <td>0</td>\n",
       "      <td>0</td>\n",
       "      <td>1</td>\n",
       "      <td>0</td>\n",
       "      <td>0</td>\n",
       "    </tr>\n",
       "    <tr>\n",
       "      <th>3</th>\n",
       "      <td>0.72</td>\n",
       "      <td>0.87</td>\n",
       "      <td>5</td>\n",
       "      <td>223</td>\n",
       "      <td>5</td>\n",
       "      <td>0</td>\n",
       "      <td>1</td>\n",
       "      <td>0</td>\n",
       "      <td>sales</td>\n",
       "      <td>0</td>\n",
       "      <td>0</td>\n",
       "      <td>0</td>\n",
       "      <td>0</td>\n",
       "      <td>0</td>\n",
       "      <td>0</td>\n",
       "      <td>0</td>\n",
       "      <td>1</td>\n",
       "      <td>0</td>\n",
       "      <td>0</td>\n",
       "    </tr>\n",
       "    <tr>\n",
       "      <th>4</th>\n",
       "      <td>0.37</td>\n",
       "      <td>0.52</td>\n",
       "      <td>2</td>\n",
       "      <td>159</td>\n",
       "      <td>3</td>\n",
       "      <td>0</td>\n",
       "      <td>1</td>\n",
       "      <td>0</td>\n",
       "      <td>sales</td>\n",
       "      <td>0</td>\n",
       "      <td>0</td>\n",
       "      <td>0</td>\n",
       "      <td>0</td>\n",
       "      <td>0</td>\n",
       "      <td>0</td>\n",
       "      <td>0</td>\n",
       "      <td>1</td>\n",
       "      <td>0</td>\n",
       "      <td>0</td>\n",
       "    </tr>\n",
       "  </tbody>\n",
       "</table>\n",
       "</div>"
      ],
      "text/plain": [
       "   satisfaction  evaluation  number_of_projects  average_montly_hours  \\\n",
       "0          0.38        0.53                   2                   157   \n",
       "1          0.80        0.86                   5                   262   \n",
       "2          0.11        0.88                   7                   272   \n",
       "3          0.72        0.87                   5                   223   \n",
       "4          0.37        0.52                   2                   159   \n",
       "\n",
       "   time_spend_company  work_accident  churn  promotion department  salary  \\\n",
       "0                   3              0      1          0      sales       0   \n",
       "1                   6              0      1          0      sales       1   \n",
       "2                   4              0      1          0      sales       1   \n",
       "3                   5              0      1          0      sales       0   \n",
       "4                   3              0      1          0      sales       0   \n",
       "\n",
       "   RandD  accounting  hr  management  marketing  product_mng  sales  support  \\\n",
       "0      0           0   0           0          0            0      1        0   \n",
       "1      0           0   0           0          0            0      1        0   \n",
       "2      0           0   0           0          0            0      1        0   \n",
       "3      0           0   0           0          0            0      1        0   \n",
       "4      0           0   0           0          0            0      1        0   \n",
       "\n",
       "   technical  \n",
       "0          0  \n",
       "1          0  \n",
       "2          0  \n",
       "3          0  \n",
       "4          0  "
      ]
     },
     "execution_count": 29,
     "metadata": {},
     "output_type": "execute_result"
    }
   ],
   "source": [
    "data.head()"
   ]
  },
  {
   "cell_type": "markdown",
   "metadata": {},
   "source": [
    "The `department` column can be dropped as we have created dummies variables of it.<br>\n",
    "we then create our features (X) and target (y) data"
   ]
  },
  {
   "cell_type": "code",
   "execution_count": 30,
   "metadata": {},
   "outputs": [],
   "source": [
    "X = data.drop(['department','churn'], axis=1)"
   ]
  },
  {
   "cell_type": "code",
   "execution_count": 31,
   "metadata": {},
   "outputs": [],
   "source": [
    "y = data['churn']"
   ]
  },
  {
   "cell_type": "markdown",
   "metadata": {},
   "source": [
    "#### Splitting our data"
   ]
  },
  {
   "cell_type": "code",
   "execution_count": 32,
   "metadata": {},
   "outputs": [],
   "source": [
    "X_train, X_test, y_train, y_test = train_test_split(X, y, test_size=0.2, random_state=SEED)"
   ]
  },
  {
   "cell_type": "markdown",
   "metadata": {},
   "source": [
    "### Modelling\n"
   ]
  },
  {
   "cell_type": "code",
   "execution_count": 33,
   "metadata": {},
   "outputs": [],
   "source": [
    "basic_tree = DecisionTreeClassifier(random_state=SEED)"
   ]
  },
  {
   "cell_type": "code",
   "execution_count": 34,
   "metadata": {},
   "outputs": [
    {
     "data": {
      "text/plain": [
       "DecisionTreeClassifier(class_weight=None, criterion='gini', max_depth=None,\n",
       "            max_features=None, max_leaf_nodes=None,\n",
       "            min_impurity_decrease=0.0, min_impurity_split=None,\n",
       "            min_samples_leaf=1, min_samples_split=2,\n",
       "            min_weight_fraction_leaf=0.0, presort=False, random_state=42,\n",
       "            splitter='best')"
      ]
     },
     "execution_count": 34,
     "metadata": {},
     "output_type": "execute_result"
    }
   ],
   "source": [
    "basic_tree.fit(X_train, y_train)"
   ]
  },
  {
   "cell_type": "code",
   "execution_count": 35,
   "metadata": {},
   "outputs": [],
   "source": [
    "def model_eval(clf):\n",
    "    \"\"\" Prints the training and test accuracy score of the model evaluated \"\"\"\n",
    "     \n",
    "    clf.fit(X_train, y_train)\n",
    "    print(f'train score: {clf.score(X_train, y_train)}')\n",
    "    print(f'test score: {clf.score(X_test,y_test)}')"
   ]
  },
  {
   "cell_type": "code",
   "execution_count": 36,
   "metadata": {},
   "outputs": [
    {
     "name": "stdout",
     "output_type": "stream",
     "text": [
      "train score: 1.0\n",
      "test score: 0.9766666666666667\n"
     ]
    }
   ],
   "source": [
    "model_eval(basic_tree)"
   ]
  },
  {
   "cell_type": "markdown",
   "metadata": {},
   "source": [
    "The biggest problem with Decision trees is that they tend to overfit the data they are trained on."
   ]
  },
  {
   "cell_type": "markdown",
   "metadata": {},
   "source": [
    "\n",
    "There are 2 strategies to prevent overfitting;<br> stopping the creation too early (pre-pruning), or building the tree and then removing nodes that contain little information(post-pruning).\n",
    "\n",
    "pre-pruning criteria:\n",
    "1. limiting max depth of the tree\n",
    "1. limiting max number of leaves\n",
    "1. requiring a min number of points in a node to keep splitting"
   ]
  },
  {
   "cell_type": "markdown",
   "metadata": {},
   "source": [
    "#### limiting the max tree depth"
   ]
  },
  {
   "cell_type": "code",
   "execution_count": 37,
   "metadata": {},
   "outputs": [],
   "source": [
    "tree_depth5 = DecisionTreeClassifier(max_depth=5, random_state=SEED)"
   ]
  },
  {
   "cell_type": "code",
   "execution_count": 38,
   "metadata": {},
   "outputs": [
    {
     "name": "stdout",
     "output_type": "stream",
     "text": [
      "train score: 0.9765813817818152\n",
      "test score: 0.9713333333333334\n"
     ]
    }
   ],
   "source": [
    "model_eval(tree_depth5)"
   ]
  },
  {
   "cell_type": "markdown",
   "metadata": {},
   "source": [
    "#### requiring a min number of points in a node to keep splitting\n"
   ]
  },
  {
   "cell_type": "code",
   "execution_count": 39,
   "metadata": {},
   "outputs": [],
   "source": [
    "tree_min_samples = DecisionTreeClassifier(min_samples_leaf=100, random_state=SEED)"
   ]
  },
  {
   "cell_type": "code",
   "execution_count": 40,
   "metadata": {},
   "outputs": [
    {
     "name": "stdout",
     "output_type": "stream",
     "text": [
      "train score: 0.9655804650387533\n",
      "test score: 0.96\n"
     ]
    }
   ],
   "source": [
    "model_eval(tree_min_samples)"
   ]
  },
  {
   "cell_type": "markdown",
   "metadata": {},
   "source": [
    "#### Another consideration:\n",
    "#### balancing classes"
   ]
  },
  {
   "cell_type": "markdown",
   "metadata": {},
   "source": [
    "Most algorithms give equal weighting to each class. So if the classes is unbalanced like this example, <br>\n",
    "which has 76.19% not churned and 23.81% churned.<br>\n",
    "By setting the hyperparameter `class_weight` to \"balanced\", the algorithm accounts for the unbalanced classes."
   ]
  },
  {
   "cell_type": "code",
   "execution_count": 41,
   "metadata": {},
   "outputs": [],
   "source": [
    "basic_tree_balanced = DecisionTreeClassifier(random_state=SEED, class_weight=\"balanced\")"
   ]
  },
  {
   "cell_type": "code",
   "execution_count": 42,
   "metadata": {},
   "outputs": [
    {
     "name": "stdout",
     "output_type": "stream",
     "text": [
      "train score: 1.0\n",
      "test score: 0.9753333333333334\n"
     ]
    }
   ],
   "source": [
    "model_eval(basic_tree_balanced)"
   ]
  },
  {
   "cell_type": "code",
   "execution_count": 43,
   "metadata": {},
   "outputs": [],
   "source": [
    "tree_depth5_balanced = DecisionTreeClassifier(max_depth=5, random_state=SEED, class_weight=\"balanced\")"
   ]
  },
  {
   "cell_type": "code",
   "execution_count": 44,
   "metadata": {},
   "outputs": [
    {
     "name": "stdout",
     "output_type": "stream",
     "text": [
      "train score: 0.9427452287690641\n",
      "test score: 0.939\n"
     ]
    }
   ],
   "source": [
    "model_eval(tree_depth5_balanced)"
   ]
  },
  {
   "cell_type": "code",
   "execution_count": 45,
   "metadata": {},
   "outputs": [],
   "source": [
    "tree_min_samples_balanced = DecisionTreeClassifier(min_samples_leaf=100, random_state=SEED, class_weight='balanced')"
   ]
  },
  {
   "cell_type": "code",
   "execution_count": 46,
   "metadata": {},
   "outputs": [
    {
     "name": "stdout",
     "output_type": "stream",
     "text": [
      "train score: 0.9546628885740478\n",
      "test score: 0.953\n"
     ]
    }
   ],
   "source": [
    "model_eval(tree_min_samples_balanced)"
   ]
  },
  {
   "cell_type": "markdown",
   "metadata": {},
   "source": [
    "### Optimization"
   ]
  },
  {
   "cell_type": "code",
   "execution_count": 47,
   "metadata": {},
   "outputs": [],
   "source": [
    "params = {'max_depth' : [5,10,20],\n",
    "          'min_samples_leaf' : [5, 10, 50, 100, 200]\n",
    "         }"
   ]
  },
  {
   "cell_type": "code",
   "execution_count": 48,
   "metadata": {},
   "outputs": [],
   "source": [
    "grid = GridSearchCV(basic_tree, param_grid=params, cv=10, verbose=1)"
   ]
  },
  {
   "cell_type": "code",
   "execution_count": 49,
   "metadata": {},
   "outputs": [
    {
     "name": "stdout",
     "output_type": "stream",
     "text": [
      "Fitting 10 folds for each of 15 candidates, totalling 150 fits\n"
     ]
    },
    {
     "name": "stderr",
     "output_type": "stream",
     "text": [
      "[Parallel(n_jobs=1)]: Done 150 out of 150 | elapsed:    4.1s finished\n"
     ]
    },
    {
     "data": {
      "text/plain": [
       "GridSearchCV(cv=10, error_score='raise',\n",
       "       estimator=DecisionTreeClassifier(class_weight=None, criterion='gini', max_depth=None,\n",
       "            max_features=None, max_leaf_nodes=None,\n",
       "            min_impurity_decrease=0.0, min_impurity_split=None,\n",
       "            min_samples_leaf=1, min_samples_split=2,\n",
       "            min_weight_fraction_leaf=0.0, presort=False, random_state=42,\n",
       "            splitter='best'),\n",
       "       fit_params=None, iid=True, n_jobs=1,\n",
       "       param_grid={'max_depth': [5, 10, 20], 'min_samples_leaf': [5, 10, 50, 100, 200]},\n",
       "       pre_dispatch='2*n_jobs', refit=True, return_train_score='warn',\n",
       "       scoring=None, verbose=1)"
      ]
     },
     "execution_count": 49,
     "metadata": {},
     "output_type": "execute_result"
    }
   ],
   "source": [
    "grid.fit(X_train, y_train)"
   ]
  },
  {
   "cell_type": "code",
   "execution_count": 50,
   "metadata": {},
   "outputs": [
    {
     "data": {
      "text/plain": [
       "0.9768314026168847"
      ]
     },
     "execution_count": 50,
     "metadata": {},
     "output_type": "execute_result"
    }
   ],
   "source": [
    "grid.best_score_"
   ]
  },
  {
   "cell_type": "code",
   "execution_count": 51,
   "metadata": {},
   "outputs": [
    {
     "data": {
      "text/plain": [
       "{'max_depth': 10, 'min_samples_leaf': 5}"
      ]
     },
     "execution_count": 51,
     "metadata": {},
     "output_type": "execute_result"
    }
   ],
   "source": [
    "grid.best_params_"
   ]
  },
  {
   "cell_type": "code",
   "execution_count": 52,
   "metadata": {},
   "outputs": [],
   "source": [
    "best_model = grid.best_estimator_"
   ]
  },
  {
   "cell_type": "markdown",
   "metadata": {},
   "source": [
    "### Assessing"
   ]
  },
  {
   "cell_type": "code",
   "execution_count": 53,
   "metadata": {},
   "outputs": [
    {
     "data": {
      "text/plain": [
       "DecisionTreeClassifier(class_weight=None, criterion='gini', max_depth=10,\n",
       "            max_features=None, max_leaf_nodes=None,\n",
       "            min_impurity_decrease=0.0, min_impurity_split=None,\n",
       "            min_samples_leaf=5, min_samples_split=2,\n",
       "            min_weight_fraction_leaf=0.0, presort=False, random_state=42,\n",
       "            splitter='best')"
      ]
     },
     "execution_count": 53,
     "metadata": {},
     "output_type": "execute_result"
    }
   ],
   "source": [
    "best_model.fit(X_train, y_train)"
   ]
  },
  {
   "cell_type": "code",
   "execution_count": 54,
   "metadata": {},
   "outputs": [],
   "source": [
    "best_pred = best_model.predict(X_test)"
   ]
  },
  {
   "cell_type": "code",
   "execution_count": 55,
   "metadata": {},
   "outputs": [
    {
     "data": {
      "text/plain": [
       "0.971"
      ]
     },
     "execution_count": 55,
     "metadata": {},
     "output_type": "execute_result"
    }
   ],
   "source": [
    "best_model.score(X_test, y_test)"
   ]
  },
  {
   "cell_type": "code",
   "execution_count": 56,
   "metadata": {},
   "outputs": [
    {
     "data": {
      "text/plain": [
       "0.9530929311839483"
      ]
     },
     "execution_count": 56,
     "metadata": {},
     "output_type": "execute_result"
    }
   ],
   "source": [
    "roc_auc_score(y_test, best_pred)"
   ]
  },
  {
   "cell_type": "code",
   "execution_count": 57,
   "metadata": {},
   "outputs": [
    {
     "data": {
      "text/plain": [
       "array([[2264,   30],\n",
       "       [  57,  649]])"
      ]
     },
     "execution_count": 57,
     "metadata": {},
     "output_type": "execute_result"
    }
   ],
   "source": [
    "confusion_matrix(y_test, best_pred)"
   ]
  },
  {
   "cell_type": "markdown",
   "metadata": {},
   "source": [
    "### didn't the original model score better?"
   ]
  },
  {
   "cell_type": "markdown",
   "metadata": {},
   "source": [
    "When I ran the first model with the default parameters it scored 0.9766 beating our optimized which only scored 0.9683.\n",
    "\n",
    "When I trained the first model, the train_test_split might have been favourable to the model. <br>\n",
    "But what if the split had been slightly different?<br>\n",
    "To overcome this dillema we use [cross validation](insert_link)"
   ]
  },
  {
   "cell_type": "code",
   "execution_count": 58,
   "metadata": {},
   "outputs": [],
   "source": [
    "basic_cv_score = cross_val_score(basic_tree, X_test, y_test, cv=10)"
   ]
  },
  {
   "cell_type": "code",
   "execution_count": 59,
   "metadata": {},
   "outputs": [
    {
     "data": {
      "text/plain": [
       "0.9583407445267911"
      ]
     },
     "execution_count": 59,
     "metadata": {},
     "output_type": "execute_result"
    }
   ],
   "source": [
    "basic_cv_score.mean()"
   ]
  },
  {
   "cell_type": "markdown",
   "metadata": {},
   "source": [
    "Understanding [bias and variance](insert_link) we can see that the optimized model has a better accuracy with unseen data as it has less bias towards the training data and therefore better gereralisability."
   ]
  },
  {
   "cell_type": "markdown",
   "metadata": {},
   "source": [
    "### Important features"
   ]
  },
  {
   "cell_type": "code",
   "execution_count": 60,
   "metadata": {},
   "outputs": [
    {
     "data": {
      "text/html": [
       "<div>\n",
       "<style scoped>\n",
       "    .dataframe tbody tr th:only-of-type {\n",
       "        vertical-align: middle;\n",
       "    }\n",
       "\n",
       "    .dataframe tbody tr th {\n",
       "        vertical-align: top;\n",
       "    }\n",
       "\n",
       "    .dataframe thead th {\n",
       "        text-align: right;\n",
       "    }\n",
       "</style>\n",
       "<table border=\"1\" class=\"dataframe\">\n",
       "  <thead>\n",
       "    <tr style=\"text-align: right;\">\n",
       "      <th></th>\n",
       "      <th>importance</th>\n",
       "    </tr>\n",
       "  </thead>\n",
       "  <tbody>\n",
       "    <tr>\n",
       "      <th>satisfaction</th>\n",
       "      <td>0.527017</td>\n",
       "    </tr>\n",
       "    <tr>\n",
       "      <th>time_spend_company</th>\n",
       "      <td>0.147167</td>\n",
       "    </tr>\n",
       "    <tr>\n",
       "      <th>evaluation</th>\n",
       "      <td>0.146304</td>\n",
       "    </tr>\n",
       "    <tr>\n",
       "      <th>number_of_projects</th>\n",
       "      <td>0.100872</td>\n",
       "    </tr>\n",
       "    <tr>\n",
       "      <th>average_montly_hours</th>\n",
       "      <td>0.071852</td>\n",
       "    </tr>\n",
       "    <tr>\n",
       "      <th>salary</th>\n",
       "      <td>0.003404</td>\n",
       "    </tr>\n",
       "    <tr>\n",
       "      <th>support</th>\n",
       "      <td>0.000797</td>\n",
       "    </tr>\n",
       "    <tr>\n",
       "      <th>technical</th>\n",
       "      <td>0.000765</td>\n",
       "    </tr>\n",
       "    <tr>\n",
       "      <th>work_accident</th>\n",
       "      <td>0.000627</td>\n",
       "    </tr>\n",
       "    <tr>\n",
       "      <th>sales</th>\n",
       "      <td>0.000527</td>\n",
       "    </tr>\n",
       "    <tr>\n",
       "      <th>RandD</th>\n",
       "      <td>0.000280</td>\n",
       "    </tr>\n",
       "    <tr>\n",
       "      <th>hr</th>\n",
       "      <td>0.000269</td>\n",
       "    </tr>\n",
       "    <tr>\n",
       "      <th>marketing</th>\n",
       "      <td>0.000103</td>\n",
       "    </tr>\n",
       "    <tr>\n",
       "      <th>promotion</th>\n",
       "      <td>0.000017</td>\n",
       "    </tr>\n",
       "    <tr>\n",
       "      <th>accounting</th>\n",
       "      <td>0.000000</td>\n",
       "    </tr>\n",
       "    <tr>\n",
       "      <th>management</th>\n",
       "      <td>0.000000</td>\n",
       "    </tr>\n",
       "    <tr>\n",
       "      <th>product_mng</th>\n",
       "      <td>0.000000</td>\n",
       "    </tr>\n",
       "  </tbody>\n",
       "</table>\n",
       "</div>"
      ],
      "text/plain": [
       "                      importance\n",
       "satisfaction            0.527017\n",
       "time_spend_company      0.147167\n",
       "evaluation              0.146304\n",
       "number_of_projects      0.100872\n",
       "average_montly_hours    0.071852\n",
       "salary                  0.003404\n",
       "support                 0.000797\n",
       "technical               0.000765\n",
       "work_accident           0.000627\n",
       "sales                   0.000527\n",
       "RandD                   0.000280\n",
       "hr                      0.000269\n",
       "marketing               0.000103\n",
       "promotion               0.000017\n",
       "accounting              0.000000\n",
       "management              0.000000\n",
       "product_mng             0.000000"
      ]
     },
     "execution_count": 60,
     "metadata": {},
     "output_type": "execute_result"
    }
   ],
   "source": [
    "features_val = best_model.feature_importances_\n",
    "\n",
    "features1 = list(X.columns)\n",
    "\n",
    "imp_feat = pd.DataFrame(data=features_val, index=features1, columns=['importance'])\n",
    "\n",
    "imp_feat.sort_values(by='importance',ascending=False)"
   ]
  },
  {
   "cell_type": "markdown",
   "metadata": {},
   "source": [
    "Using the `.feature_importances_` attribute of Decision Trees,<br>\n",
    "we can rank the importance of features in the dataset."
   ]
  },
  {
   "cell_type": "markdown",
   "metadata": {},
   "source": [
    "### Visualizing the Tree"
   ]
  },
  {
   "cell_type": "markdown",
   "metadata": {},
   "source": [
    "An easy way to visualize the decision tree to help in explaining the decisions the model made. <br>\n",
    "It can be tricky to try to install and visualize the tree, so the easiest is to use [webgraphviz](www.webgraphviz)."
   ]
  },
  {
   "cell_type": "code",
   "execution_count": 61,
   "metadata": {},
   "outputs": [],
   "source": [
    "from sklearn.tree import export_graphviz\n",
    "\n",
    "# files saved in current working directory\n",
    "export_graphviz(best_model, \"tree.dot\")"
   ]
  },
  {
   "cell_type": "markdown",
   "metadata": {},
   "source": [
    "copy the contents of `tree.dot` and paste it in the textbox on [webgraphviz](www.webgraphviz)"
   ]
  },
  {
   "cell_type": "markdown",
   "metadata": {},
   "source": [
    "### Last thoughts"
   ]
  },
  {
   "cell_type": "markdown",
   "metadata": {},
   "source": [
    "#### doesn't ensembles perform better?\n",
    "They typically do perform better as they account for the overfitting nature of decision trees, they learn the mistakes of previous trees and are better at generalization\n",
    "#### why use decision trees?\n",
    "In this project HR might be more interested in the interpretability of the model than the accuracy of predicting employee churn. Since there is very slight difference in the accuracy scores, a Decision Tree is a better \"fit\" as it predicts with great accuracy employee churn as well being interpretable to HR (who may not be that clued up in ML).\n",
    "#### What about linear models?\n",
    "Linear models can also work. Why don't you give them a try?\n",
    "#### Other things to try\n",
    "- train the model using only the important features, by how much does the accuracy improve?\n",
    "- `stratify` parameter in train_test_split - what does it do and how does it affect the training of the model?\n",
    "- `class_weight` hyperparameter of the decision tree - what are the other weightings, do we still need \"balanced\" if we use the `stratify` parameter in train_test_split?\n",
    "- `logistic regression` model - compare the two types.\n",
    "- Ensemble or boosting methods to improve accuracy.\n",
    "- Optimize to either minimize typeI or typeII errors\n"
   ]
  },
  {
   "cell_type": "markdown",
   "metadata": {},
   "source": [
    "---"
   ]
  },
  {
   "cell_type": "markdown",
   "metadata": {},
   "source": [
    "### Bonus"
   ]
  },
  {
   "cell_type": "markdown",
   "metadata": {},
   "source": [
    "### Ensemble models"
   ]
  },
  {
   "cell_type": "code",
   "execution_count": 62,
   "metadata": {},
   "outputs": [
    {
     "name": "stdout",
     "output_type": "stream",
     "text": [
      "train score: 0.9979998333194433\n",
      "test score: 0.9856666666666667\n"
     ]
    }
   ],
   "source": [
    "from sklearn.ensemble import RandomForestClassifier\n",
    "\n",
    "rfc = RandomForestClassifier()\n",
    "\n",
    "model_eval(rfc)"
   ]
  },
  {
   "cell_type": "markdown",
   "metadata": {},
   "source": [
    "Wow! Random Forest performs better with its default settings."
   ]
  }
 ],
 "metadata": {
  "kernelspec": {
   "display_name": "Python 3",
   "language": "python",
   "name": "python3"
  },
  "language_info": {
   "codemirror_mode": {
    "name": "ipython",
    "version": 3
   },
   "file_extension": ".py",
   "mimetype": "text/x-python",
   "name": "python",
   "nbconvert_exporter": "python",
   "pygments_lexer": "ipython3",
   "version": "3.6.5"
  }
 },
 "nbformat": 4,
 "nbformat_minor": 2
}
